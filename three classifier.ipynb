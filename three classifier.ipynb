{
  "nbformat": 4,
  "nbformat_minor": 0,
  "metadata": {
    "colab": {
      "name": "final_program.ipynb",
      "version": "0.3.2",
      "provenance": [],
      "collapsed_sections": []
    },
    "language_info": {
      "codemirror_mode": {
        "name": "ipython",
        "version": 3
      },
      "file_extension": ".py",
      "mimetype": "text/x-python",
      "name": "python",
      "nbconvert_exporter": "python",
      "pygments_lexer": "ipython3",
      "version": "3.7.3"
    },
    "kernelspec": {
      "name": "python3",
      "display_name": "Python 3"
    },
    "accelerator": "GPU"
  },
  "cells": [
    {
      "cell_type": "code",
      "metadata": {
        "id": "dyeDLi6W1P3n",
        "colab_type": "code",
        "colab": {}
      },
      "source": [
        "import torch\n",
        "import matplotlib.pyplot as plt\n",
        "import torchvision as tv \n",
        "import cv2\n",
        "import numpy as np\n",
        "import torchvision.models as models\n",
        "import torch.nn as nn\n",
        "import torch.nn.functional as F\n",
        "import torch.optim as optim\n",
        "import pandas as pd\n",
        "import pathlib\n",
        "import re\n",
        "from torch.utils.data import Dataset, DataLoader\n",
        "import more_itertools as mit\n",
        "from statistics import median, mean\n",
        "import nltk\n",
        "from nltk import FreqDist\n",
        "from collections import Counter\n",
        "from itertools import chain\n",
        "from sklearn.preprocessing import LabelEncoder"
      ],
      "execution_count": 0,
      "outputs": []
    },
    {
      "cell_type": "code",
      "metadata": {
        "id": "tD2ZTsOx2iV1",
        "colab_type": "code",
        "colab": {}
      },
      "source": [
        "# this two lines are for unzip file\n",
        "!tar xzf drive/My\\ Drive/alcon2019.tar.gz"
      ],
      "execution_count": 0,
      "outputs": []
    },
    {
      "cell_type": "code",
      "metadata": {
        "id": "A9B4fUCx2ijc",
        "colab_type": "code",
        "colab": {}
      },
      "source": [
        "# !cd alcon2019/dataset/train_kana\n",
        "!find . -name \".*.jpg\" -type f -delete"
      ],
      "execution_count": 0,
      "outputs": []
    },
    {
      "cell_type": "code",
      "metadata": {
        "id": "7sqXLS_I1P3r",
        "colab_type": "code",
        "outputId": "1ea47257-7560-488d-a8c1-1881b8f07e91",
        "colab": {
          "base_uri": "https://localhost:8080/",
          "height": 34
        }
      },
      "source": [
        "# kana initial parameters\n",
        "three_train_dir = 'alcon2019/dataset/train/imgs/'\n",
        "three_train_label_csv = 'alcon2019/dataset/train/annotations.csv'\n",
        "three_test_dir = 'alcon2019/dataset/test/imgs/'\n",
        "batch_size = 32\n",
        "num_workers = 4\n",
        "num_epochs = 10\n",
        "train_norm = ([0.56], [0.22])\n",
        "test_norm = ([0.42], [0.20])\n",
        "resize_size = (224, 224)\n",
        "\n",
        "# three kana initial parameters\n",
        "three_train_transform = tv.transforms.Compose([\n",
        "        tv.transforms.Grayscale(),\n",
        "        tv.transforms.Resize(resize_size),\n",
        "        tv.transforms.ToTensor(),\n",
        "        tv.transforms.Normalize(*train_norm)\n",
        "])\n",
        "\n",
        "three_test_transform = tv.transforms.Compose([\n",
        "        tv.transforms.Grayscale(),\n",
        "        tv.transforms.Resize(resize_size),\n",
        "        tv.transforms.ToTensor(),\n",
        "        tv.transforms.Normalize(*test_norm)\n",
        "])\n",
        "\n",
        "classes = ['U+3042', 'U+3044', 'U+3046', 'U+3048', 'U+304A', 'U+304B', 'U+304D', 'U+304F', \n",
        "           'U+3051', 'U+3053', 'U+3055', 'U+3057', 'U+3059', 'U+305B', 'U+305D', 'U+305F', \n",
        "           'U+3061', 'U+3064', 'U+3066', 'U+3068', 'U+306A', 'U+306B', 'U+306C', 'U+306D', \n",
        "           'U+306E', 'U+306F', 'U+3072', 'U+3075', 'U+3078', 'U+307B', 'U+307E', 'U+307F', \n",
        "           'U+3080', 'U+3081', 'U+3082', 'U+3084', 'U+3086', 'U+3088', 'U+3089', 'U+308A', \n",
        "           'U+308B', 'U+308C', 'U+308D', 'U+308F', 'U+3090', 'U+3091', 'U+3092', 'U+3093']\n",
        "num_kana_classes = len(classes)\n",
        "le = LabelEncoder()\n",
        "le.fit(classes)"
      ],
      "execution_count": 4,
      "outputs": [
        {
          "output_type": "execute_result",
          "data": {
            "text/plain": [
              "LabelEncoder()"
            ]
          },
          "metadata": {
            "tags": []
          },
          "execution_count": 4
        }
      ]
    },
    {
      "cell_type": "code",
      "metadata": {
        "id": "VsJ4xq661P34",
        "colab_type": "code",
        "colab": {}
      },
      "source": [
        "\"\"\"\n",
        "this is all the function and class definition\n",
        "\"\"\"\n",
        "\n",
        "class ThreeKanaDataset(Dataset):\n",
        "    \"\"\"Three characters train dataset.\"\"\"\n",
        "    \n",
        "    def __init__(self, root_dir, kana_pos=None, csv_file=None, transform=None):\n",
        "        \"\"\"\n",
        "        Args:\n",
        "            root_dir (string): Directory with all the images.\n",
        "            csv_file (string): Path to the csv file with annotations(not necessary if it's test dir).\n",
        "            transform (callable, optional): Optional transform to be applied on a sample.\n",
        "            norm (tupple): for normalize\n",
        "        \"\"\"\n",
        "        if csv_file:\n",
        "            tmp = pd.read_csv(csv_file)\n",
        "            self.labels = [le.transform(tmp['Unicode1'].values.tolist()), \n",
        "                      le.transform(tmp['Unicode2'].values.tolist()), \n",
        "                      le.transform(tmp['Unicode3'].values.tolist())]\n",
        "        train_root = pathlib.Path(root_dir)\n",
        "        all_image_paths = [str(path) for path in train_root.glob('*')]\n",
        "        all_image_paths.sort(key=lambda x: int(re.findall(r'\\d+(?=\\.jpg)', x)[0]))\n",
        "        self.all_image_paths = all_image_paths\n",
        "        self.transform = transform\n",
        "        self.kana_pos = kana_pos\n",
        "        self.csv_file = csv_file \n",
        "\n",
        "\n",
        "\n",
        "    def __len__(self):\n",
        "        return len(self.all_image_paths)\n",
        "\n",
        "    def __getitem__(self, idx):\n",
        "        img = cv2.imread(self.all_image_paths[idx])\n",
        "        img = tv.transforms.functional.to_pil_image(img)\n",
        "        if self.transform:\n",
        "            img = self.transform(img)\n",
        "        \n",
        "        if self.csv_file and self.kana_pos != None:\n",
        "            return {'image': img, 'label': self.labels[self.kana_pos][idx]}\n",
        "        else:\n",
        "            return {'image': img}\n",
        "   \n",
        "      \n",
        "\n",
        "def save_model(model, file_path):\n",
        "    torch.save(model.state_dict(), file_path)\n",
        "\n",
        "\n",
        "\n",
        "    \n",
        "def save_model(model, file_path):\n",
        "    torch.save(model.state_dict(), file_path)\n",
        "    \n",
        "def load_model(model, file_path):\n",
        "    model.load_state_dict(torch.load(file_path))\n",
        "    model.eval()   \n",
        "    \n",
        "\n",
        "\n",
        "  \n",
        "    "
      ],
      "execution_count": 0,
      "outputs": []
    },
    {
      "cell_type": "code",
      "metadata": {
        "id": "qLnMYfCQ1P4E",
        "colab_type": "code",
        "colab": {}
      },
      "source": [
        "# three kana dataset\n",
        "u1_dataset = ThreeKanaDataset(csv_file=three_train_label_csv, kana_pos=0, root_dir=three_train_dir, transform=three_train_transform)\n",
        "u2_dataset = ThreeKanaDataset(csv_file=three_train_label_csv, kana_pos=1, root_dir=three_train_dir, transform=three_train_transform)\n",
        "u3_dataset = ThreeKanaDataset(csv_file=three_train_label_csv, kana_pos=2, root_dir=three_train_dir, transform=three_train_transform)\n",
        "train_size = int(0.8 * len(u1_dataset))\n",
        "test_size = len(u1_dataset) - train_size\n",
        "u1_train_dataset, u1_test_dataset = torch.utils.data.random_split(u1_dataset, [train_size, test_size])\n",
        "u2_train_dataset, u2_test_dataset = torch.utils.data.random_split(u2_dataset, [train_size, test_size])\n",
        "u3_train_dataset, u3_test_dataset = torch.utils.data.random_split(u3_dataset, [train_size, test_size])\n",
        "test_dataset = ThreeKanaDataset(root_dir=three_test_dir, transform=three_test_transform)\n",
        "\n",
        "u1_train_loader = torch.utils.data.DataLoader(u1_train_dataset,batch_size=batch_size, shuffle=True,num_workers=num_workers)\n",
        "u2_train_loader = torch.utils.data.DataLoader(u2_train_dataset,batch_size=batch_size, shuffle=True,num_workers=num_workers)\n",
        "u3_train_loader = torch.utils.data.DataLoader(u3_train_dataset,batch_size=batch_size, shuffle=True,num_workers=num_workers)\n",
        "u1_test_loader = torch.utils.data.DataLoader(u1_test_dataset,batch_size=batch_size, shuffle=True,num_workers=num_workers)\n",
        "u2_test_loader = torch.utils.data.DataLoader(u2_test_dataset,batch_size=batch_size, shuffle=True,num_workers=num_workers)\n",
        "u3_test_loader = torch.utils.data.DataLoader(u3_test_dataset,batch_size=batch_size, shuffle=True,num_workers=num_workers)\n",
        "test_loader = torch.utils.data.DataLoader(test_dataset,batch_size=batch_size, num_workers=num_workers)\n"
      ],
      "execution_count": 0,
      "outputs": []
    },
    {
      "cell_type": "code",
      "metadata": {
        "id": "MeKaKXPwMzUf",
        "colab_type": "code",
        "outputId": "de709e2c-db29-4a27-9861-d93d231b48a1",
        "colab": {
          "base_uri": "https://localhost:8080/",
          "height": 253
        }
      },
      "source": [
        "def show_sample(loader):\n",
        "    for i_batch, sample_batched in enumerate(loader):\n",
        "        print(i_batch)\n",
        "\n",
        "        # observe 4th batch and stop.\n",
        "        if i_batch == 0:\n",
        "            plt.figure()\n",
        "            grid = tv.utils.make_grid(sample_batched['image'])\n",
        "            plt.imshow(grid.numpy().transpose((1, 2, 0)))\n",
        "            plt.axis('off')\n",
        "#             plt.title(str(sample_batched['label']))\n",
        "            plt.show()\n",
        "            break\n",
        "show_sample(test_loader)"
      ],
      "execution_count": 63,
      "outputs": [
        {
          "output_type": "stream",
          "text": [
            "Clipping input data to the valid range for imshow with RGB data ([0..1] for floats or [0..255] for integers).\n"
          ],
          "name": "stderr"
        },
        {
          "output_type": "stream",
          "text": [
            "0\n"
          ],
          "name": "stdout"
        },
        {
          "output_type": "display_data",
          "data": {
            "image/png": "[encoded data removed]",
            "text/plain": [
              "<Figure size 432x288 with 1 Axes>"
            ]
          },
          "metadata": {
            "tags": []
          }
        }
      ]
    },
    {
      "cell_type": "code",
      "metadata": {
        "id": "MW3YhRQV_w4N",
        "colab_type": "code",
        "colab": {}
      },
      "source": [
        "u1_model = tv.models.resnet50()\n",
        "u2_model = tv.models.resnet50()\n",
        "u3_model = tv.models.resnet50()\n",
        "u1_model.conv1 = nn.Conv2d(1, 64, kernel_size=7, stride=2, padding=3,bias=False)\n",
        "u2_model.conv1 = nn.Conv2d(1, 64, kernel_size=7, stride=2, padding=3,bias=False)\n",
        "u3_model.conv1 = nn.Conv2d(1, 64, kernel_size=7, stride=2, padding=3,bias=False)\n",
        "device = torch.device(\"cuda:0\" if torch.cuda.is_available() else \"cpu\")\n",
        "u1_model = u1_model.to(device)\n",
        "u2_model = u2_model.to(device)\n",
        "u3_model = u3_model.to(device)\n",
        "u1_cri = nn.CrossEntropyLoss()\n",
        "u2_cri = nn.CrossEntropyLoss()\n",
        "u3_cri = nn.CrossEntropyLoss()\n",
        "u1_opt = optim.SGD(u1_model.parameters(), lr=0.001, momentum=0.9)\n",
        "u2_opt = optim.SGD(u2_model.parameters(), lr=0.001, momentum=0.9)\n",
        "u3_opt = optim.SGD(u3_model.parameters(), lr=0.001, momentum=0.9)"
      ],
      "execution_count": 0,
      "outputs": []
    },
    {
      "cell_type": "code",
      "metadata": {
        "id": "imhykENTmpmw",
        "colab_type": "code",
        "colab": {
          "base_uri": "https://localhost:8080/",
          "height": 34
        },
        "outputId": "b96200b1-1402-41ca-ffbb-5e8f4e5897a5"
      },
      "source": [
        "device"
      ],
      "execution_count": 15,
      "outputs": [
        {
          "output_type": "execute_result",
          "data": {
            "text/plain": [
              "device(type='cuda', index=0)"
            ]
          },
          "metadata": {
            "tags": []
          },
          "execution_count": 15
        }
      ]
    },
    {
      "cell_type": "code",
      "metadata": {
        "id": "llfeysH9ONyO",
        "colab_type": "code",
        "colab": {}
      },
      "source": [
        "\n",
        "def train_model(model, dataset, cri, opt):\n",
        "    model.train()\n",
        "    loss_values = []\n",
        "    for epoch in range(num_epochs):  # loop over the dataset multiple times\n",
        "\n",
        "        running_loss = 0.0\n",
        "        for i, data in enumerate(dataset, 0):\n",
        "            # get the inputs\n",
        "            inputs, labels = data['image'], data['label']\n",
        "            inputs = inputs.to(device)\n",
        "            labels = labels.to(device)\n",
        "            # zero the parameter gradients\n",
        "            opt.zero_grad()\n",
        "\n",
        "            # forward + backward + optimize\n",
        "            outputs = model(inputs)\n",
        "            loss = cri(outputs, labels)\n",
        "            loss.backward()\n",
        "            opt.step()\n",
        "\n",
        "            # print statistics\n",
        "            running_loss += loss.item()\n",
        "        loss_values.append(running_loss / len(dataset))\n",
        "        print('{} time: loss {}'.format(epoch, running_loss / len(dataset)))\n",
        "\n",
        "    print('Finished Training')\n",
        "# train_model()\n",
        "# model.load_state_dict(torch.load('drive/My Drive/kana_cnn_95.pt'))\n",
        "# model.eval()\n"
      ],
      "execution_count": 0,
      "outputs": []
    },
    {
      "cell_type": "code",
      "metadata": {
        "id": "VX5uVMsHTJBg",
        "colab_type": "code",
        "colab": {}
      },
      "source": [
        "def show_kana_accuracy(model, dataset):\n",
        "    correct = 0\n",
        "    total = 0\n",
        "    model.eval()\n",
        "    with torch.no_grad():\n",
        "        for data in dataset:\n",
        "            inputs, labels = data['image'], data['label']\n",
        "            inputs, labels = inputs.to(device), labels.to(device)\n",
        "            outputs = model(inputs)\n",
        "            softmax_arr = nn.functional.softmax(outputs.data, dim=1)\n",
        "            _, predicted = torch.max(softmax_arr, 1)\n",
        "            total += labels.size(0)\n",
        "            correct += (predicted == labels).sum().item()\n",
        "\n",
        "    print('Accuracy of the network on the test images: %d %%' % (\n",
        "        100 * correct / total))"
      ],
      "execution_count": 0,
      "outputs": []
    },
    {
      "cell_type": "code",
      "metadata": {
        "id": "wt2nLgA-9oMY",
        "colab_type": "code",
        "outputId": "709c6582-6f56-49b3-fde9-9f188d248287",
        "colab": {
          "base_uri": "https://localhost:8080/",
          "height": 218
        }
      },
      "source": [
        "train_model(u1_model, u1_train_loader, u1_cri, u1_opt)\n",
        "show_kana_accuracy(u1_model, u1_test_loader)\n",
        "save_model(u1_model, 'u1_model.pt')\n"
      ],
      "execution_count": 18,
      "outputs": [
        {
          "output_type": "stream",
          "text": [
            "0 time: loss 3.463777571280797\n",
            "1 time: loss 1.3459258939226468\n",
            "2 time: loss 0.489295290718476\n",
            "3 time: loss 0.26992163989444573\n",
            "4 time: loss 0.16349400962640842\n",
            "5 time: loss 0.0998715844321996\n",
            "6 time: loss 0.06068252897945543\n",
            "7 time: loss 0.03517921783526738\n",
            "8 time: loss 0.020682085014879704\n",
            "9 time: loss 0.012736093162869415\n",
            "Finished Training\n",
            "Accuracy of the network on the test images: 95 %\n"
          ],
          "name": "stdout"
        }
      ]
    },
    {
      "cell_type": "markdown",
      "metadata": {
        "id": "daWwi1z1w-ql",
        "colab_type": "text"
      },
      "source": [
        ""
      ]
    },
    {
      "cell_type": "code",
      "metadata": {
        "id": "HiJP3dneUfW3",
        "colab_type": "code",
        "outputId": "a556374e-af4c-4de5-a0a4-9bb4dde23737",
        "colab": {
          "base_uri": "https://localhost:8080/",
          "height": 218
        }
      },
      "source": [
        "train_model(u2_model, u2_train_loader, u2_cri, u2_opt)\n",
        "show_kana_accuracy(u2_model, u2_test_loader)\n",
        "save_model(u2_model, 'u2_model.pt')\n"
      ],
      "execution_count": 19,
      "outputs": [
        {
          "output_type": "stream",
          "text": [
            "0 time: loss 3.6596177518367767\n",
            "1 time: loss 2.1290795788963637\n",
            "2 time: loss 0.8100312899053097\n",
            "3 time: loss 0.40928521045545735\n",
            "4 time: loss 0.24981297865509988\n",
            "5 time: loss 0.16123690169801314\n",
            "6 time: loss 0.10690269601345062\n",
            "7 time: loss 0.07048743002985915\n",
            "8 time: loss 0.04783626681690415\n",
            "9 time: loss 0.03373184137170514\n",
            "Finished Training\n",
            "Accuracy of the network on the test images: 95 %\n"
          ],
          "name": "stdout"
        }
      ]
    },
    {
      "cell_type": "code",
      "metadata": {
        "id": "bCOdshu_h2xc",
        "colab_type": "code",
        "outputId": "fcfb0b00-0379-4254-b902-a33371c5ae2d",
        "colab": {
          "base_uri": "https://localhost:8080/",
          "height": 218
        }
      },
      "source": [
        "train_model(u3_model, u3_train_loader, u3_cri, u3_opt)\n",
        "show_kana_accuracy(u3_model, u3_test_loader)\n",
        "save_model(u3_model, 'u3_model.pt')"
      ],
      "execution_count": 20,
      "outputs": [
        {
          "output_type": "stream",
          "text": [
            "0 time: loss 3.4402521730264026\n",
            "1 time: loss 1.5425518837869168\n",
            "2 time: loss 0.638938599785169\n",
            "3 time: loss 0.3537210465768973\n",
            "4 time: loss 0.21854657122989496\n",
            "5 time: loss 0.13940188308556875\n",
            "6 time: loss 0.08749337850448986\n",
            "7 time: loss 0.05291800683240096\n",
            "8 time: loss 0.03305289354299506\n",
            "9 time: loss 0.02049200610568126\n",
            "Finished Training\n",
            "Accuracy of the network on the test images: 94 %\n"
          ],
          "name": "stdout"
        }
      ]
    },
    {
      "cell_type": "code",
      "metadata": {
        "id": "IA1l8AnmtyaK",
        "colab_type": "code",
        "colab": {}
      },
      "source": [
        "def get_test_answer():\n",
        "    u1_predict, u2_predict, u3_predict = [], [], []\n",
        "    u1_model.eval()\n",
        "    u2_model.eval()\n",
        "    u3_model.eval()\n",
        "    with torch.no_grad():\n",
        "        for data in test_loader:\n",
        "            inputs= data['image']\n",
        "            inputs = inputs.to(device)\n",
        "            \n",
        "            output1 = u1_model(inputs)\n",
        "            softmax_arr1 = nn.functional.softmax(output1.data, dim=1)\n",
        "            _, predict1 = torch.max(softmax_arr1, 1)\n",
        "            \n",
        "            output2 = u2_model(inputs)\n",
        "            softmax_arr2 = nn.functional.softmax(output2.data, dim=1)\n",
        "            _, predict2 = torch.max(softmax_arr2, 1)\n",
        "            \n",
        "            output3 = u3_model(inputs)\n",
        "            softmax_arr3 = nn.functional.softmax(output3.data, dim=1)\n",
        "            _, predict3 = torch.max(softmax_arr3, 1)\n",
        "            \n",
        "            u1_predict.extend(predict1.tolist())\n",
        "            u2_predict.extend(predict2.tolist())\n",
        "            u3_predict.extend(predict3.tolist())\n",
        "    return [list(range(16387)), u1_predict, u2_predict, u3_predict]"
      ],
      "execution_count": 0,
      "outputs": []
    },
    {
      "cell_type": "code",
      "metadata": {
        "id": "HxNmTu52Y7So",
        "colab_type": "code",
        "colab": {}
      },
      "source": [
        "predict_ans = get_test_answer()"
      ],
      "execution_count": 0,
      "outputs": []
    },
    {
      "cell_type": "code",
      "metadata": {
        "id": "12svS3gBjPMx",
        "colab_type": "code",
        "colab": {}
      },
      "source": [
        "def write_to_csv(arr, path):\n",
        "    a = [classes[x] for x in arr[1]]\n",
        "    b = [classes[x] for x in arr[2]]\n",
        "    c = [classes[x] for x in arr[3]]\n",
        "    pd.DataFrame(data={'ID': arr[0], 'Unicode1': a, 'Unicode2': b, 'Unicode3': c}).to_csv(path, index=False) \n",
        "write_to_csv(predict_ans, 'test_prediction.csv')"
      ],
      "execution_count": 0,
      "outputs": []
    },
    {
      "cell_type": "code",
      "metadata": {
        "id": "nq_ccXHPf6Cc",
        "colab_type": "code",
        "colab": {}
      },
      "source": [
        ""
      ],
      "execution_count": 0,
      "outputs": []
    }
  ]
}