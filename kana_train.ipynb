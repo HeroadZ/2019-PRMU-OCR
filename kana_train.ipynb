{
 "cells": [
  {
   "cell_type": "code",
   "execution_count": 1,
   "metadata": {},
   "outputs": [
    {
     "name": "stdout",
     "output_type": "stream",
     "text": [
      "2.0.0-beta1\n"
     ]
    }
   ],
   "source": [
    "from __future__ import absolute_import, division, print_function, unicode_literals\n",
    "import tensorflow as tf\n",
    "from tensorflow import keras\n",
    "\n",
    "import numpy as np\n",
    "import matplotlib.pyplot as plt\n",
    "\n",
    "print(tf.__version__)"
   ]
  },
  {
   "cell_type": "code",
   "execution_count": 3,
   "metadata": {},
   "outputs": [],
   "source": [
    "class_names = ['あ', 'い', 'う', 'え', 'お', 'か', 'き', 'く', 'け', 'こ', 'さ', 'し', 'す', 'せ', 'そ',\n",
    "               'た', 'ち', 'つ', 'て', 'と', 'な', 'に', 'ぬ', 'ね', 'の', 'は', 'ひ', 'ふ', 'へ', 'ほ',\n",
    "               'ま', 'み', 'む', 'め', 'も', 'や', 'ゆ', 'よ', 'ら', 'り', 'る', 'れ', 'ろ', 'わ', 'ゐ', \n",
    "               'ゑ', 'を', 'ん']"
   ]
  },
  {
   "cell_type": "code",
   "execution_count": 2,
   "metadata": {},
   "outputs": [],
   "source": [
    "def kana_to_unicode( kana:str ):\n",
    "    assert len(kana)==1\n",
    "    return 'U+' + hex(ord(kana))[2:]\n",
    "def unicode_to_kana( code:str ):\n",
    "    # Example: unicode_to_kana('U+304A')\n",
    "    assert len(code)==6\n",
    "    return chr(int(code[2:],16))"
   ]
  },
  {
   "cell_type": "code",
   "execution_count": 9,
   "metadata": {},
   "outputs": [
    {
     "data": {
      "text/plain": [
       "['あ',\n",
       " 'い',\n",
       " 'う',\n",
       " 'え',\n",
       " 'お',\n",
       " 'か',\n",
       " 'き',\n",
       " 'く',\n",
       " 'け',\n",
       " 'こ',\n",
       " 'さ',\n",
       " 'し',\n",
       " 'す',\n",
       " 'せ',\n",
       " 'そ',\n",
       " 'た',\n",
       " 'ち',\n",
       " 'つ',\n",
       " 'て',\n",
       " 'と',\n",
       " 'な',\n",
       " 'に',\n",
       " 'ぬ',\n",
       " 'ね',\n",
       " 'の',\n",
       " 'は',\n",
       " 'ひ',\n",
       " 'ふ',\n",
       " 'へ',\n",
       " 'ほ',\n",
       " 'ま',\n",
       " 'み',\n",
       " 'む',\n",
       " 'め',\n",
       " 'も',\n",
       " 'や',\n",
       " 'ゆ',\n",
       " 'よ',\n",
       " 'ら',\n",
       " 'り',\n",
       " 'る',\n",
       " 'れ',\n",
       " 'ろ',\n",
       " 'わ',\n",
       " 'ゐ',\n",
       " 'ゑ',\n",
       " 'を',\n",
       " 'ん']"
      ]
     },
     "execution_count": 9,
     "metadata": {},
     "output_type": "execute_result"
    }
   ],
   "source": []
  },
  {
   "cell_type": "code",
   "execution_count": 12,
   "metadata": {},
   "outputs": [
    {
     "data": {
      "text/plain": [
       "[('U+3042', 'あ'),\n",
       " ('U+3044', 'い'),\n",
       " ('U+3046', 'う'),\n",
       " ('U+3048', 'え'),\n",
       " ('U+304A', 'お'),\n",
       " ('U+304B', 'か'),\n",
       " ('U+304D', 'き'),\n",
       " ('U+304F', 'く'),\n",
       " ('U+3051', 'け'),\n",
       " ('U+3053', 'こ'),\n",
       " ('U+3055', 'さ'),\n",
       " ('U+3057', 'し'),\n",
       " ('U+3059', 'す'),\n",
       " ('U+305B', 'せ'),\n",
       " ('U+305D', 'そ'),\n",
       " ('U+305F', 'た'),\n",
       " ('U+3061', 'ち'),\n",
       " ('U+3064', 'つ'),\n",
       " ('U+3066', 'て'),\n",
       " ('U+3068', 'と'),\n",
       " ('U+306A', 'な'),\n",
       " ('U+306B', 'に'),\n",
       " ('U+306C', 'ぬ'),\n",
       " ('U+306D', 'ね'),\n",
       " ('U+306E', 'の'),\n",
       " ('U+306F', 'は'),\n",
       " ('U+3072', 'ひ'),\n",
       " ('U+3075', 'ふ'),\n",
       " ('U+3078', 'へ'),\n",
       " ('U+307B', 'ほ'),\n",
       " ('U+307E', 'ま'),\n",
       " ('U+307F', 'み'),\n",
       " ('U+3080', 'む'),\n",
       " ('U+3081', 'め'),\n",
       " ('U+3082', 'も'),\n",
       " ('U+3084', 'や'),\n",
       " ('U+3086', 'ゆ'),\n",
       " ('U+3088', 'よ'),\n",
       " ('U+3089', 'ら'),\n",
       " ('U+308A', 'り'),\n",
       " ('U+308B', 'る'),\n",
       " ('U+308C', 'れ'),\n",
       " ('U+308D', 'ろ'),\n",
       " ('U+308F', 'わ'),\n",
       " ('U+3090', 'ゐ'),\n",
       " ('U+3091', 'ゑ'),\n",
       " ('U+3092', 'を'),\n",
       " ('U+3093', 'ん')]"
      ]
     },
     "execution_count": 12,
     "metadata": {},
     "output_type": "execute_result"
    }
   ],
   "source": [
    "x = [kana_to_unicode(x).upper() for x in class_names]\n",
    "[(z[0], z[1]) for z in zip(x, class_names)]"
   ]
  },
  {
   "cell_type": "code",
   "execution_count": 4,
   "metadata": {},
   "outputs": [],
   "source": [
    "AUTOTUNE = tf.data.experimental.AUTOTUNE"
   ]
  },
  {
   "cell_type": "code",
   "execution_count": 4,
   "metadata": {},
   "outputs": [
    {
     "name": "stdout",
     "output_type": "stream",
     "text": [
      "dataset\\train_kana\n"
     ]
    }
   ],
   "source": [
    "import pathlib\n",
    "data_root = pathlib.Path('dataset/train_kana/')\n",
    "print(data_root)"
   ]
  },
  {
   "cell_type": "code",
   "execution_count": 5,
   "metadata": {},
   "outputs": [
    {
     "data": {
      "text/plain": [
       "388145"
      ]
     },
     "execution_count": 5,
     "metadata": {},
     "output_type": "execute_result"
    }
   ],
   "source": [
    "import random\n",
    "all_image_paths = list(data_root.glob('*/*'))\n",
    "all_image_paths = [str(path) for path in all_image_paths]\n",
    "random.shuffle(all_image_paths)\n",
    "\n",
    "# all_image_paths = all_image_paths[:6000]\n",
    "image_count = len(all_image_paths)\n",
    "image_count"
   ]
  },
  {
   "cell_type": "code",
   "execution_count": 30,
   "metadata": {},
   "outputs": [],
   "source": [
    "label_names = sorted(item.name for item in data_root.glob('*/') if item.is_dir())"
   ]
  },
  {
   "cell_type": "code",
   "execution_count": 31,
   "metadata": {},
   "outputs": [],
   "source": [
    "label_to_index = dict((name, index) for index,name in enumerate(label_names))"
   ]
  },
  {
   "cell_type": "code",
   "execution_count": 32,
   "metadata": {},
   "outputs": [
    {
     "name": "stdout",
     "output_type": "stream",
     "text": [
      "First 10 labels indices:  [46, 18, 18, 11, 40, 18, 39, 46, 28, 21]\n"
     ]
    }
   ],
   "source": [
    "all_image_labels = [label_to_index[pathlib.Path(path).parent.name]\n",
    "                    for path in all_image_paths]\n",
    "\n",
    "print(\"First 10 labels indices: \", all_image_labels[:10])"
   ]
  },
  {
   "cell_type": "code",
   "execution_count": 33,
   "metadata": {},
   "outputs": [],
   "source": [
    "def preprocess_image(image):\n",
    "  image = tf.image.decode_jpeg(image, channels=3)\n",
    "  image = tf.image.resize(image, [64, 64])\n",
    "  image /= 255.0  # normalize to [0,1] range\n",
    "\n",
    "  return image"
   ]
  },
  {
   "cell_type": "code",
   "execution_count": 34,
   "metadata": {},
   "outputs": [],
   "source": [
    "def load_and_preprocess_image(path):\n",
    "  image = tf.io.read_file(path)\n",
    "  return preprocess_image(image)"
   ]
  },
  {
   "cell_type": "code",
   "execution_count": 35,
   "metadata": {},
   "outputs": [],
   "source": [
    "path_ds = tf.data.Dataset.from_tensor_slices(all_image_paths)"
   ]
  },
  {
   "cell_type": "code",
   "execution_count": 36,
   "metadata": {},
   "outputs": [],
   "source": [
    "image_ds = path_ds.map(load_and_preprocess_image, num_parallel_calls=AUTOTUNE)"
   ]
  },
  {
   "cell_type": "code",
   "execution_count": 37,
   "metadata": {},
   "outputs": [
    {
     "data": {
      "image/png": "[encoded data removed]",
      "text/plain": [
       "<Figure size 576x576 with 1 Axes>"
      ]
     },
     "metadata": {},
     "output_type": "display_data"
    },
    {
     "data": {
      "image/png": "[encoded data removed]",
      "text/plain": [
       "<Figure size 432x288 with 1 Axes>"
      ]
     },
     "metadata": {},
     "output_type": "display_data"
    },
    {
     "data": {
      "image/png": "[encoded data removed]",
      "text/plain": [
       "<Figure size 432x288 with 1 Axes>"
      ]
     },
     "metadata": {},
     "output_type": "display_data"
    },
    {
     "data": {
      "image/png": "[encoded data removed]",
      "text/plain": [
       "<Figure size 432x288 with 1 Axes>"
      ]
     },
     "metadata": {},
     "output_type": "display_data"
    }
   ],
   "source": [
    "import IPython.display as display\n",
    "\n",
    "def caption_image(image_path):\n",
    "    image_rel = pathlib.Path(image_path).relative_to(data_root)\n",
    "    return (image_rel)\n",
    "\n",
    "import matplotlib.pyplot as plt\n",
    "\n",
    "plt.figure(figsize=(8,8))\n",
    "for n,image in enumerate(image_ds.take(4)):\n",
    "  plt.subplot(2,2,n+1)\n",
    "  plt.imshow(image)\n",
    "  plt.grid(False)\n",
    "  plt.xticks([])\n",
    "  plt.yticks([])\n",
    "  plt.xlabel(caption_image(all_image_paths[n]))\n",
    "  plt.show()"
   ]
  },
  {
   "cell_type": "code",
   "execution_count": 38,
   "metadata": {},
   "outputs": [],
   "source": [
    "label_ds = tf.data.Dataset.from_tensor_slices(tf.cast(all_image_labels, tf.int64))"
   ]
  },
  {
   "cell_type": "code",
   "execution_count": 39,
   "metadata": {},
   "outputs": [
    {
     "name": "stdout",
     "output_type": "stream",
     "text": [
      "tf.Tensor(46, shape=(), dtype=int64)\n",
      "tf.Tensor(18, shape=(), dtype=int64)\n",
      "tf.Tensor(18, shape=(), dtype=int64)\n",
      "tf.Tensor(11, shape=(), dtype=int64)\n",
      "tf.Tensor(40, shape=(), dtype=int64)\n",
      "tf.Tensor(18, shape=(), dtype=int64)\n",
      "tf.Tensor(39, shape=(), dtype=int64)\n",
      "tf.Tensor(46, shape=(), dtype=int64)\n",
      "tf.Tensor(28, shape=(), dtype=int64)\n",
      "tf.Tensor(21, shape=(), dtype=int64)\n"
     ]
    }
   ],
   "source": [
    "for label in label_ds.take(10):\n",
    "  print(label)"
   ]
  },
  {
   "cell_type": "code",
   "execution_count": 40,
   "metadata": {},
   "outputs": [
    {
     "data": {
      "text/plain": [
       "<ZipDataset shapes: ((64, 64, 3), ()), types: (tf.float32, tf.int64)>"
      ]
     },
     "execution_count": 40,
     "metadata": {},
     "output_type": "execute_result"
    }
   ],
   "source": [
    "image_label_ds = tf.data.Dataset.zip((image_ds, label_ds))\n",
    "image_label_ds"
   ]
  },
  {
   "cell_type": "code",
   "execution_count": 41,
   "metadata": {},
   "outputs": [
    {
     "data": {
      "text/plain": [
       "<PrefetchDataset shapes: ((None, 64, 64, 3), (None,)), types: (tf.float32, tf.int64)>"
      ]
     },
     "execution_count": 41,
     "metadata": {},
     "output_type": "execute_result"
    }
   ],
   "source": [
    "BATCH_SIZE = 32\n",
    "\n",
    "# Setting a shuffle buffer size as large as the dataset ensures that the data is\n",
    "# completely shuffled.\n",
    "ds = image_label_ds.shuffle(buffer_size=image_count)\n",
    "ds = ds.repeat()\n",
    "ds = ds.batch(BATCH_SIZE)\n",
    "# `prefetch` lets the dataset fetch batches, in the background while the model is training.\n",
    "ds = ds.prefetch(buffer_size=AUTOTUNE)\n",
    "ds"
   ]
  },
  {
   "cell_type": "code",
   "execution_count": 42,
   "metadata": {},
   "outputs": [
    {
     "data": {
      "text/plain": [
       "<PrefetchDataset shapes: ((None, 64, 64, 3), (None,)), types: (tf.float32, tf.int64)>"
      ]
     },
     "execution_count": 42,
     "metadata": {},
     "output_type": "execute_result"
    }
   ],
   "source": [
    "ds = image_label_ds.apply(\n",
    "  tf.data.experimental.shuffle_and_repeat(buffer_size=image_count))\n",
    "ds = ds.batch(BATCH_SIZE)\n",
    "ds = ds.prefetch(buffer_size=AUTOTUNE)\n",
    "ds"
   ]
  },
  {
   "cell_type": "code",
   "execution_count": 43,
   "metadata": {},
   "outputs": [],
   "source": [
    "model = keras.Sequential([\n",
    "    keras.layers.Flatten(input_shape=(64,64,3)),\n",
    "    keras.layers.Dense(128, activation='relu'),\n",
    "    keras.layers.Dense(len(label_names), activation='softmax')\n",
    "])"
   ]
  },
  {
   "cell_type": "code",
   "execution_count": 44,
   "metadata": {},
   "outputs": [],
   "source": [
    "model.compile(optimizer='adam',\n",
    "              loss='sparse_categorical_crossentropy',\n",
    "              metrics=['accuracy'])"
   ]
  },
  {
   "cell_type": "code",
   "execution_count": 45,
   "metadata": {},
   "outputs": [
    {
     "data": {
      "text/plain": [
       "4"
      ]
     },
     "execution_count": 45,
     "metadata": {},
     "output_type": "execute_result"
    }
   ],
   "source": [
    "len(model.trainable_variables)"
   ]
  },
  {
   "cell_type": "code",
   "execution_count": 46,
   "metadata": {},
   "outputs": [
    {
     "name": "stdout",
     "output_type": "stream",
     "text": [
      "Model: \"sequential_1\"\n",
      "_________________________________________________________________\n",
      "Layer (type)                 Output Shape              Param #   \n",
      "=================================================================\n",
      "flatten_1 (Flatten)          (None, 12288)             0         \n",
      "_________________________________________________________________\n",
      "dense_2 (Dense)              (None, 128)               1572992   \n",
      "_________________________________________________________________\n",
      "dense_3 (Dense)              (None, 48)                6192      \n",
      "=================================================================\n",
      "Total params: 1,579,184\n",
      "Trainable params: 1,579,184\n",
      "Non-trainable params: 0\n",
      "_________________________________________________________________\n"
     ]
    }
   ],
   "source": [
    "model.summary()"
   ]
  },
  {
   "cell_type": "code",
   "execution_count": 47,
   "metadata": {},
   "outputs": [
    {
     "data": {
      "text/plain": [
       "12130.0"
      ]
     },
     "execution_count": 47,
     "metadata": {},
     "output_type": "execute_result"
    }
   ],
   "source": [
    "steps_per_epoch=tf.math.ceil(len(all_image_paths)/BATCH_SIZE).numpy()\n",
    "steps_per_epoch"
   ]
  },
  {
   "cell_type": "code",
   "execution_count": 47,
   "metadata": {},
   "outputs": [
    {
     "name": "stdout",
     "output_type": "stream",
     "text": [
      " 9462/12130 [======================>.......] - ETA: 51:35 - loss: 3.0411 - accuracy: 0.1856"
     ]
    },
    {
     "name": "stderr",
     "output_type": "stream",
     "text": [
      "\n",
      "KeyboardInterrupt\n",
      "\n"
     ]
    },
    {
     "ename": "KeyboardInterrupt",
     "evalue": "",
     "output_type": "error",
     "traceback": [
      "\u001b[1;31m---------------------------------------------------------------------------\u001b[0m",
      "\u001b[1;31mKeyboardInterrupt\u001b[0m                         Traceback (most recent call last)",
      "\u001b[1;32m~\\Anaconda3\\lib\\site-packages\\IPython\\core\\async_helpers.py\u001b[0m in \u001b[0;36m_pseudo_sync_runner\u001b[1;34m(coro)\u001b[0m\n\u001b[0;32m     65\u001b[0m     \"\"\"\n\u001b[0;32m     66\u001b[0m     \u001b[1;32mtry\u001b[0m\u001b[1;33m:\u001b[0m\u001b[1;33m\u001b[0m\u001b[1;33m\u001b[0m\u001b[0m\n\u001b[1;32m---> 67\u001b[1;33m         \u001b[0mcoro\u001b[0m\u001b[1;33m.\u001b[0m\u001b[0msend\u001b[0m\u001b[1;33m(\u001b[0m\u001b[1;32mNone\u001b[0m\u001b[1;33m)\u001b[0m\u001b[1;33m\u001b[0m\u001b[1;33m\u001b[0m\u001b[0m\n\u001b[0m\u001b[0;32m     68\u001b[0m     \u001b[1;32mexcept\u001b[0m \u001b[0mStopIteration\u001b[0m \u001b[1;32mas\u001b[0m \u001b[0mexc\u001b[0m\u001b[1;33m:\u001b[0m\u001b[1;33m\u001b[0m\u001b[1;33m\u001b[0m\u001b[0m\n\u001b[0;32m     69\u001b[0m         \u001b[1;32mreturn\u001b[0m \u001b[0mexc\u001b[0m\u001b[1;33m.\u001b[0m\u001b[0mvalue\u001b[0m\u001b[1;33m\u001b[0m\u001b[1;33m\u001b[0m\u001b[0m\n",
      "\u001b[1;32m~\\Anaconda3\\lib\\site-packages\\IPython\\core\\interactiveshell.py\u001b[0m in \u001b[0;36mrun_cell_async\u001b[1;34m(self, raw_cell, store_history, silent, shell_futures)\u001b[0m\n\u001b[0;32m   3054\u001b[0m                 \u001b[1;31m# Reset this so later displayed values do not modify the\u001b[0m\u001b[1;33m\u001b[0m\u001b[1;33m\u001b[0m\u001b[1;33m\u001b[0m\u001b[0m\n\u001b[0;32m   3055\u001b[0m                 \u001b[1;31m# ExecutionResult\u001b[0m\u001b[1;33m\u001b[0m\u001b[1;33m\u001b[0m\u001b[1;33m\u001b[0m\u001b[0m\n\u001b[1;32m-> 3056\u001b[1;33m                 \u001b[0mself\u001b[0m\u001b[1;33m.\u001b[0m\u001b[0mdisplayhook\u001b[0m\u001b[1;33m.\u001b[0m\u001b[0mexec_result\u001b[0m \u001b[1;33m=\u001b[0m \u001b[1;32mNone\u001b[0m\u001b[1;33m\u001b[0m\u001b[1;33m\u001b[0m\u001b[0m\n\u001b[0m\u001b[0;32m   3057\u001b[0m \u001b[1;33m\u001b[0m\u001b[0m\n\u001b[0;32m   3058\u001b[0m         \u001b[1;32mif\u001b[0m \u001b[0mstore_history\u001b[0m\u001b[1;33m:\u001b[0m\u001b[1;33m\u001b[0m\u001b[1;33m\u001b[0m\u001b[0m\n",
      "\u001b[1;32m~\\Anaconda3\\lib\\site-packages\\IPython\\core\\builtin_trap.py\u001b[0m in \u001b[0;36m__exit__\u001b[1;34m(self, type, value, traceback)\u001b[0m\n\u001b[0;32m     46\u001b[0m     \u001b[1;32mdef\u001b[0m \u001b[0m__exit__\u001b[0m\u001b[1;33m(\u001b[0m\u001b[0mself\u001b[0m\u001b[1;33m,\u001b[0m \u001b[0mtype\u001b[0m\u001b[1;33m,\u001b[0m \u001b[0mvalue\u001b[0m\u001b[1;33m,\u001b[0m \u001b[0mtraceback\u001b[0m\u001b[1;33m)\u001b[0m\u001b[1;33m:\u001b[0m\u001b[1;33m\u001b[0m\u001b[1;33m\u001b[0m\u001b[0m\n\u001b[0;32m     47\u001b[0m         \u001b[1;32mif\u001b[0m \u001b[0mself\u001b[0m\u001b[1;33m.\u001b[0m\u001b[0m_nested_level\u001b[0m \u001b[1;33m==\u001b[0m \u001b[1;36m1\u001b[0m\u001b[1;33m:\u001b[0m\u001b[1;33m\u001b[0m\u001b[1;33m\u001b[0m\u001b[0m\n\u001b[1;32m---> 48\u001b[1;33m             \u001b[0mself\u001b[0m\u001b[1;33m.\u001b[0m\u001b[0mdeactivate\u001b[0m\u001b[1;33m(\u001b[0m\u001b[1;33m)\u001b[0m\u001b[1;33m\u001b[0m\u001b[1;33m\u001b[0m\u001b[0m\n\u001b[0m\u001b[0;32m     49\u001b[0m         \u001b[0mself\u001b[0m\u001b[1;33m.\u001b[0m\u001b[0m_nested_level\u001b[0m \u001b[1;33m-=\u001b[0m \u001b[1;36m1\u001b[0m\u001b[1;33m\u001b[0m\u001b[1;33m\u001b[0m\u001b[0m\n\u001b[0;32m     50\u001b[0m         \u001b[1;31m# Returning False will cause exceptions to propagate\u001b[0m\u001b[1;33m\u001b[0m\u001b[1;33m\u001b[0m\u001b[1;33m\u001b[0m\u001b[0m\n",
      "\u001b[1;31mKeyboardInterrupt\u001b[0m: "
     ]
    }
   ],
   "source": [
    "model.fit(ds, epochs=1)"
   ]
  },
  {
   "cell_type": "code",
   "execution_count": 1,
   "metadata": {},
   "outputs": [],
   "source": [
    "a = 'data/custom/images/'"
   ]
  },
  {
   "cell_type": "code",
   "execution_count": 2,
   "metadata": {},
   "outputs": [],
   "source": [
    "b = '.jpg'"
   ]
  },
  {
   "cell_type": "code",
   "execution_count": 4,
   "metadata": {},
   "outputs": [
    {
     "name": "stdout",
     "output_type": "stream",
     "text": [
      "data/custom/images/100.jpg\n",
      "data/custom/images/101.jpg\n",
      "data/custom/images/102.jpg\n",
      "data/custom/images/103.jpg\n",
      "data/custom/images/104.jpg\n",
      "data/custom/images/105.jpg\n",
      "data/custom/images/106.jpg\n",
      "data/custom/images/107.jpg\n",
      "data/custom/images/108.jpg\n",
      "data/custom/images/109.jpg\n",
      "data/custom/images/110.jpg\n",
      "data/custom/images/111.jpg\n",
      "data/custom/images/112.jpg\n",
      "data/custom/images/113.jpg\n",
      "data/custom/images/114.jpg\n",
      "data/custom/images/115.jpg\n",
      "data/custom/images/116.jpg\n",
      "data/custom/images/117.jpg\n",
      "data/custom/images/118.jpg\n",
      "data/custom/images/119.jpg\n",
      "data/custom/images/120.jpg\n",
      "data/custom/images/121.jpg\n",
      "data/custom/images/122.jpg\n",
      "data/custom/images/123.jpg\n",
      "data/custom/images/124.jpg\n",
      "data/custom/images/125.jpg\n",
      "data/custom/images/126.jpg\n",
      "data/custom/images/127.jpg\n",
      "data/custom/images/128.jpg\n",
      "data/custom/images/129.jpg\n",
      "data/custom/images/130.jpg\n",
      "data/custom/images/131.jpg\n",
      "data/custom/images/132.jpg\n",
      "data/custom/images/133.jpg\n",
      "data/custom/images/134.jpg\n",
      "data/custom/images/135.jpg\n",
      "data/custom/images/136.jpg\n",
      "data/custom/images/137.jpg\n",
      "data/custom/images/138.jpg\n",
      "data/custom/images/139.jpg\n",
      "data/custom/images/140.jpg\n",
      "data/custom/images/141.jpg\n",
      "data/custom/images/142.jpg\n",
      "data/custom/images/143.jpg\n",
      "data/custom/images/144.jpg\n",
      "data/custom/images/145.jpg\n",
      "data/custom/images/146.jpg\n",
      "data/custom/images/147.jpg\n",
      "data/custom/images/148.jpg\n",
      "data/custom/images/149.jpg\n",
      "data/custom/images/150.jpg\n",
      "data/custom/images/151.jpg\n",
      "data/custom/images/152.jpg\n",
      "data/custom/images/153.jpg\n",
      "data/custom/images/154.jpg\n",
      "data/custom/images/155.jpg\n",
      "data/custom/images/156.jpg\n",
      "data/custom/images/157.jpg\n",
      "data/custom/images/158.jpg\n",
      "data/custom/images/159.jpg\n",
      "data/custom/images/160.jpg\n",
      "data/custom/images/161.jpg\n",
      "data/custom/images/162.jpg\n",
      "data/custom/images/163.jpg\n",
      "data/custom/images/164.jpg\n",
      "data/custom/images/165.jpg\n",
      "data/custom/images/166.jpg\n",
      "data/custom/images/167.jpg\n",
      "data/custom/images/168.jpg\n",
      "data/custom/images/169.jpg\n",
      "data/custom/images/170.jpg\n",
      "data/custom/images/171.jpg\n",
      "data/custom/images/172.jpg\n",
      "data/custom/images/173.jpg\n",
      "data/custom/images/174.jpg\n",
      "data/custom/images/175.jpg\n",
      "data/custom/images/176.jpg\n",
      "data/custom/images/177.jpg\n",
      "data/custom/images/178.jpg\n",
      "data/custom/images/179.jpg\n",
      "data/custom/images/180.jpg\n",
      "data/custom/images/181.jpg\n",
      "data/custom/images/182.jpg\n",
      "data/custom/images/183.jpg\n",
      "data/custom/images/184.jpg\n",
      "data/custom/images/185.jpg\n",
      "data/custom/images/186.jpg\n",
      "data/custom/images/187.jpg\n",
      "data/custom/images/188.jpg\n",
      "data/custom/images/189.jpg\n",
      "data/custom/images/190.jpg\n",
      "data/custom/images/191.jpg\n",
      "data/custom/images/192.jpg\n",
      "data/custom/images/193.jpg\n",
      "data/custom/images/194.jpg\n",
      "data/custom/images/195.jpg\n",
      "data/custom/images/196.jpg\n",
      "data/custom/images/197.jpg\n",
      "data/custom/images/198.jpg\n",
      "data/custom/images/199.jpg\n",
      "data/custom/images/200.jpg\n"
     ]
    }
   ],
   "source": [
    "for i in range(100, 201):\n",
    "    print(a + str(i) + b)"
   ]
  },
  {
   "cell_type": "code",
   "execution_count": null,
   "metadata": {},
   "outputs": [],
   "source": []
  }
 ],
 "metadata": {
  "kernelspec": {
   "display_name": "Python 3",
   "language": "python",
   "name": "python3"
  },
  "language_info": {
   "codemirror_mode": {
    "name": "ipython",
    "version": 3
   },
   "file_extension": ".py",
   "mimetype": "text/x-python",
   "name": "python",
   "nbconvert_exporter": "python",
   "pygments_lexer": "ipython3",
   "version": "3.7.3"
  }
 },
 "nbformat": 4,
 "nbformat_minor": 2
}
