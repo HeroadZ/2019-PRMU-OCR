{
  "nbformat": 4,
  "nbformat_minor": 0,
  "metadata": {
    "kernelspec": {
      "name": "python3",
      "display_name": "Python 3"
    },
    "language_info": {
      "codemirror_mode": {
        "name": "ipython",
        "version": 3
      },
      "file_extension": ".py",
      "mimetype": "text/x-python",
      "name": "python",
      "nbconvert_exporter": "python",
      "pygments_lexer": "ipython3",
      "version": "3.7.3"
    },
    "colab": {
      "name": "multilabel.ipynb",
      "version": "0.3.2",
      "provenance": [],
      "collapsed_sections": [],
      "machine_shape": "hm"
    },
    "accelerator": "GPU"
  },
  "cells": [
    {
      "cell_type": "code",
      "metadata": {
        "id": "7fhv-T07QgQo",
        "colab_type": "code",
        "colab": {}
      },
      "source": [
        "import numpy as np\n",
        "import matplotlib.pyplot as plt\n",
        "import cv2\n",
        "import tensorflow as tf\n",
        "from tensorflow.keras.layers import Conv2D, BatchNormalization, MaxPooling2D, Dropout,Flatten, Dense\n",
        "from tensorflow.keras import Sequential\n",
        "from tensorflow.keras import backend as K\n",
        "from tensorflow.keras.preprocessing.image import ImageDataGenerator\n",
        "from tensorflow.keras.optimizers import Adam\n",
        "from tensorflow.keras.preprocessing.image import img_to_array\n",
        "from sklearn.preprocessing import MultiLabelBinarizer\n",
        "from sklearn.model_selection import train_test_split\n",
        "import pathlib\n",
        "import pandas as pd\n",
        "import re"
      ],
      "execution_count": 0,
      "outputs": []
    },
    {
      "cell_type": "code",
      "metadata": {
        "id": "eloiT5xiQqaI",
        "colab_type": "code",
        "colab": {}
      },
      "source": [
        "!tar xzf drive/My\\ Drive/alcon2019.tar.gz"
      ],
      "execution_count": 0,
      "outputs": []
    },
    {
      "cell_type": "code",
      "metadata": {
        "id": "kY18E9haQgQt",
        "colab_type": "code",
        "colab": {}
      },
      "source": [
        "img_dir = pathlib.Path('alcon2019/dataset/train/imgs')\n",
        "label_dir = 'alcon2019/dataset/train/annotations.csv'\n",
        "IMAGE_DIMS = (512, 128, 1)\n",
        "EPOCHS = 50\n",
        "INIT_LR = 1e-3\n",
        "BS = 32\n",
        "AUTOTUNE = tf.data.experimental.AUTOTUNE\n",
        "my_num = 10000"
      ],
      "execution_count": 0,
      "outputs": []
    },
    {
      "cell_type": "code",
      "metadata": {
        "id": "Rt1q8ZQ4QgQw",
        "colab_type": "code",
        "colab": {}
      },
      "source": [
        "labels = pd.read_csv(label_dir)\n",
        "labels = labels[[\"Unicode1\", \"Unicode2\", \"Unicode3\"]].values.tolist()\n",
        "mlb = MultiLabelBinarizer()\n",
        "labels = mlb.fit_transform(np.array(labels))\n",
        "img_paths = [str(x) for x in img_dir.glob('*')]\n",
        "img_paths.sort(key=lambda x: int(re.findall(r'\\d+(?=\\.jpg)', x)[0]))"
      ],
      "execution_count": 0,
      "outputs": []
    },
    {
      "cell_type": "code",
      "metadata": {
        "id": "PbfKoWE0QgQ6",
        "colab_type": "code",
        "colab": {}
      },
      "source": [
        "def read_preprocess_img(path):\n",
        "    img = cv2.imread(path, cv2.IMREAD_GRAYSCALE)\n",
        "    img = cv2.resize(img, (IMAGE_DIMS[1], IMAGE_DIMS[0]))\n",
        "    img = img_to_array(img)\n",
        "    return img"
      ],
      "execution_count": 0,
      "outputs": []
    },
    {
      "cell_type": "code",
      "metadata": {
        "id": "ntvRvWWnQgQ9",
        "colab_type": "code",
        "colab": {}
      },
      "source": [
        "# def create_dataset(l=0, r=100, cnt=100):\n",
        "#   img_paths_tmp = img_paths[l:r]\n",
        "#   labels_tmp = labels[l:r]\n",
        "#   image_count = cnt\n",
        "#   path_ds = tf.data.Dataset.from_tensor_slices(img_paths_tmp)\n",
        "#   img_ds = path_ds.map(read_preprocess_img, num_parallel_calls=AUTOTUNE)\n",
        "#   label_ds = tf.data.Dataset.from_tensor_slices(tf.cast(labels_tmp, tf.int32))\n",
        "#   image_label_ds = tf.data.Dataset.zip((img_ds, label_ds))\n",
        "#   ds = image_label_ds.shuffle(buffer_size=image_count)\n",
        "#   ds = ds.repeat()\n",
        "#   ds = ds.batch(BS)\n",
        "#   ds = ds.prefetch(buffer_size=AUTOTUNE)\n",
        "#   return ds\n",
        "\n",
        "def create_dataset(l=0, r=100):\n",
        "  img_paths_tmp = img_paths[l:r]\n",
        "  labels_tmp = labels[l:r]\n",
        "  data = [read_preprocess_img(x) for x in img_paths_tmp]\n",
        "  data = np.array(data, dtype=\"float\") / 255.0\n",
        "  return data, labels_tmp"
      ],
      "execution_count": 0,
      "outputs": []
    },
    {
      "cell_type": "code",
      "metadata": {
        "id": "-bDcKH1mkNS6",
        "colab_type": "code",
        "colab": {}
      },
      "source": [
        "my_data, my_labels = create_dataset(r=my_num)"
      ],
      "execution_count": 0,
      "outputs": []
    },
    {
      "cell_type": "code",
      "metadata": {
        "id": "OAh7zgPLk7Ue",
        "colab_type": "code",
        "colab": {}
      },
      "source": [
        "(trainX, testX, trainY, testY) = train_test_split(my_data,\n",
        "\tmy_labels, test_size=0.2, random_state=42)"
      ],
      "execution_count": 0,
      "outputs": []
    },
    {
      "cell_type": "code",
      "metadata": {
        "id": "e_H0jtEkQgRJ",
        "colab_type": "code",
        "colab": {}
      },
      "source": [
        "def make_model():\n",
        "\t\t# initialize the model along with the input shape to be\n",
        "\t\t# \"channels last\" and the channels dimension itself\n",
        "    \n",
        "    \n",
        "\t\tmodel = Sequential()\n",
        "\t\tinputShape = IMAGE_DIMS\n",
        "\t\tchanDim = -1\n",
        "\n",
        "\n",
        "\t\t# CONV => RELU => POOL\n",
        "\t\tmodel.add(Conv2D(32, (3, 3), padding=\"same\", activation=\"relu\", input_shape=inputShape))\n",
        "\t\tmodel.add(BatchNormalization(axis=chanDim))\n",
        "\t\tmodel.add(MaxPooling2D(pool_size=(3, 3)))\n",
        "\t\tmodel.add(Dropout(0.25))\n",
        "\n",
        "\t\t# (CONV => RELU) * 2 => POOL\n",
        "\t\tmodel.add(Conv2D(64, (3, 3), padding=\"same\", activation=\"relu\"))\n",
        "\t\tmodel.add(BatchNormalization(axis=chanDim))\n",
        "\t\tmodel.add(Conv2D(64, (3, 3), padding=\"same\", activation=\"relu\"))\n",
        "\t\tmodel.add(BatchNormalization(axis=chanDim))\n",
        "\t\tmodel.add(MaxPooling2D(pool_size=(2, 2)))\n",
        "\t\tmodel.add(Dropout(0.25))\n",
        "\n",
        "\t\t# (CONV => RELU) * 2 => POOL\n",
        "\t\tmodel.add(Conv2D(128, (3, 3), padding=\"same\", activation=\"relu\"))\n",
        "\t\tmodel.add(BatchNormalization(axis=chanDim))\n",
        "\t\tmodel.add(Conv2D(128, (3, 3), padding=\"same\", activation=\"relu\"))\n",
        "\t\tmodel.add(BatchNormalization(axis=chanDim))\n",
        "\t\tmodel.add(MaxPooling2D(pool_size=(2, 2)))\n",
        "\t\tmodel.add(Dropout(0.25))\n",
        "\n",
        "\t\t# first (and only) set of FC => RELU layers\n",
        "\t\tmodel.add(Flatten())\n",
        "\t\tmodel.add(Dense(1024, activation=\"relu\"))\n",
        "\t\tmodel.add(BatchNormalization())\n",
        "\t\tmodel.add(Dropout(0.5))\n",
        "\n",
        "\t\t# softmax classifier\n",
        "\t\tmodel.add(Dense(len(mlb.classes_), activation=\"sigmoid\"))\n",
        "\n",
        "\t\t# return the constructed network architecture\n",
        "\t\treturn model"
      ],
      "execution_count": 0,
      "outputs": []
    },
    {
      "cell_type": "code",
      "metadata": {
        "id": "wX2GM9ahQgRM",
        "colab_type": "code",
        "colab": {
          "base_uri": "https://localhost:8080/",
          "height": 34
        },
        "outputId": "4debfe4a-ff6d-4d59-ed1a-ab447e25c321"
      },
      "source": [
        "print(\"[INFO] compiling model...\")\n",
        "model = make_model()\n",
        "opt = Adam(lr=INIT_LR, decay=INIT_LR / EPOCHS)\n",
        "model.compile(loss=\"binary_crossentropy\", optimizer=opt, metrics=[\"accuracy\"])"
      ],
      "execution_count": 139,
      "outputs": [
        {
          "output_type": "stream",
          "text": [
            "[INFO] compiling model...\n"
          ],
          "name": "stdout"
        }
      ]
    },
    {
      "cell_type": "code",
      "metadata": {
        "id": "gmCWeXPgQgRW",
        "colab_type": "code",
        "colab": {
          "base_uri": "https://localhost:8080/",
          "height": 386
        },
        "outputId": "9da4dc3d-1a94-4cf6-a2a0-9df926692d90"
      },
      "source": [
        "model.fit(trainX, trainY, epochs=EPOCHS, validation_data=(testX, testY), batch_size=BS)"
      ],
      "execution_count": 140,
      "outputs": [
        {
          "output_type": "stream",
          "text": [
            "Train on 8000 samples, validate on 2000 samples\n",
            "Epoch 1/10\n",
            "8000/8000 [==============================] - 43s 5ms/sample - loss: 0.3282 - acc: 0.8660 - val_loss: 0.5370 - val_acc: 0.8760\n",
            "Epoch 2/10\n",
            "8000/8000 [==============================] - 36s 4ms/sample - loss: 0.1548 - acc: 0.9484 - val_loss: 0.1811 - val_acc: 0.9407\n",
            "Epoch 3/10\n",
            "8000/8000 [==============================] - 36s 4ms/sample - loss: 0.1213 - acc: 0.9579 - val_loss: 0.5056 - val_acc: 0.8010\n",
            "Epoch 4/10\n",
            "8000/8000 [==============================] - 36s 4ms/sample - loss: 0.0951 - acc: 0.9664 - val_loss: 0.2706 - val_acc: 0.9245\n",
            "Epoch 5/10\n",
            "8000/8000 [==============================] - 36s 4ms/sample - loss: 0.0706 - acc: 0.9748 - val_loss: 1.5790 - val_acc: 0.8373\n",
            "Epoch 6/10\n",
            "8000/8000 [==============================] - 36s 4ms/sample - loss: 0.0525 - acc: 0.9814 - val_loss: 0.1593 - val_acc: 0.9535\n",
            "Epoch 7/10\n",
            "8000/8000 [==============================] - 36s 4ms/sample - loss: 0.0383 - acc: 0.9866 - val_loss: 0.1427 - val_acc: 0.9581\n",
            "Epoch 8/10\n",
            "8000/8000 [==============================] - 36s 4ms/sample - loss: 0.0285 - acc: 0.9904 - val_loss: 2.6943 - val_acc: 0.8162\n",
            "Epoch 9/10\n",
            "8000/8000 [==============================] - 36s 4ms/sample - loss: 0.0240 - acc: 0.9920 - val_loss: 9.4380 - val_acc: 0.7473\n",
            "Epoch 10/10\n",
            "8000/8000 [==============================] - 36s 4ms/sample - loss: 0.0203 - acc: 0.9932 - val_loss: 0.3601 - val_acc: 0.9452\n"
          ],
          "name": "stdout"
        },
        {
          "output_type": "execute_result",
          "data": {
            "text/plain": [
              "<tensorflow.python.keras.callbacks.History at 0x7fa0ed54d748>"
            ]
          },
          "metadata": {
            "tags": []
          },
          "execution_count": 140
        }
      ]
    },
    {
      "cell_type": "code",
      "metadata": {
        "id": "7m5uhAcSQgRe",
        "colab_type": "code",
        "colab": {
          "base_uri": "https://localhost:8080/",
          "height": 316
        },
        "outputId": "bb79fe58-23b3-4920-8fde-78542e706ef8"
      },
      "source": [
        "plt.style.use(\"ggplot\")\n",
        "plt.figure()\n",
        "N = EPOCHS\n",
        "plt.plot(np.arange(0, N), H.history[\"loss\"], label=\"train_loss\")\n",
        "plt.plot(np.arange(0, N), H.history[\"val_loss\"], label=\"val_loss\")\n",
        "plt.plot(np.arange(0, N), H.history[\"acc\"], label=\"train_acc\")\n",
        "plt.plot(np.arange(0, N), H.history[\"val_acc\"], label=\"val_acc\")\n",
        "plt.title(\"Training Loss and Accuracy\")\n",
        "plt.xlabel(\"Epoch #\")\n",
        "plt.ylabel(\"Loss/Accuracy\")\n",
        "plt.legend(loc=\"upper left\")"
      ],
      "execution_count": 141,
      "outputs": [
        {
          "output_type": "execute_result",
          "data": {
            "text/plain": [
              "<matplotlib.legend.Legend at 0x7fa0ed43a400>"
            ]
          },
          "metadata": {
            "tags": []
          },
          "execution_count": 141
        },
        {
          "output_type": "display_data",
          "data": {
            "image/png": "[encoded data removed]",
            "text/plain": [
              "<Figure size 432x288 with 1 Axes>"
            ]
          },
          "metadata": {
            "tags": []
          }
        }
      ]
    },
    {
      "cell_type": "code",
      "metadata": {
        "id": "f8V2E7Cndvus",
        "colab_type": "code",
        "colab": {}
      },
      "source": [
        "image = cv2.imread(img_paths[0], cv2.IMREAD_GRAYSCALE)\n",
        " \n",
        "# pre-process the image for classification\n",
        "image = cv2.resize(image, (IMAGE_DIMS[1], IMAGE_DIMS[0]))\n",
        "image = image.astype(\"float\") / 255.0\n",
        "image = img_to_array(image)\n",
        "image = np.expand_dims(image, axis=0)\n",
        "proba = model.predict(image)[0]\n",
        "idxs = np.argsort(proba)[::-1]"
      ],
      "execution_count": 0,
      "outputs": []
    },
    {
      "cell_type": "code",
      "metadata": {
        "id": "cteK5WzTf9Mm",
        "colab_type": "code",
        "colab": {
          "base_uri": "https://localhost:8080/",
          "height": 235
        },
        "outputId": "1cd55c66-638b-4c58-81d5-936677d068cc"
      },
      "source": [
        "model.predict(image)[0]"
      ],
      "execution_count": 151,
      "outputs": [
        {
          "output_type": "execute_result",
          "data": {
            "text/plain": [
              "array([3.0634487e-01, 3.3915043e-05, 4.6402216e-05, 1.4275312e-05,\n",
              "       4.4089556e-04, 4.3243170e-05, 1.3727546e-03, 3.9637089e-06,\n",
              "       2.7960539e-04, 5.3745508e-04, 1.3449788e-04, 8.0779493e-03,\n",
              "       3.9666891e-05, 7.7027082e-04, 7.1775913e-04, 2.1119550e-01,\n",
              "       9.6985698e-04, 7.3076254e-01, 3.8668513e-04, 7.9826629e-01,\n",
              "       1.2308359e-05, 1.6093254e-06, 6.8306923e-05, 1.1771917e-05,\n",
              "       1.5339255e-03, 5.0961971e-06, 4.8279762e-06, 4.8327446e-04,\n",
              "       9.8913908e-05, 7.1678162e-03, 1.7285347e-06, 4.2395324e-02,\n",
              "       6.3866377e-05, 7.0309639e-04, 2.8827786e-03, 2.7105570e-01,\n",
              "       8.8110566e-04, 3.3378601e-06, 7.7486038e-07, 6.5784514e-02,\n",
              "       3.3617020e-05, 3.9456278e-02, 6.9737434e-06, 1.6858459e-02,\n",
              "       1.1920929e-07, 8.3684921e-05, 3.1172037e-03, 4.9840212e-03],\n",
              "      dtype=float32)"
            ]
          },
          "metadata": {
            "tags": []
          },
          "execution_count": 151
        }
      ]
    },
    {
      "cell_type": "code",
      "metadata": {
        "id": "0huslM8C0eov",
        "colab_type": "code",
        "colab": {
          "base_uri": "https://localhost:8080/",
          "height": 67
        },
        "outputId": "2361daff-a7a6-4f1e-9b27-403075c5fcc2"
      },
      "source": [
        "for (i, j) in enumerate(idxs):\n",
        "  label = \"{}: {:.2f}%\".format(mlb.classes_[j], proba[j] * 100)\n",
        "  print(label)"
      ],
      "execution_count": 157,
      "outputs": [
        {
          "output_type": "stream",
          "text": [
            "U+3068: 79.83%\n",
            "U+3064: 73.08%\n",
            "U+3042: 30.63%\n"
          ],
          "name": "stdout"
        }
      ]
    },
    {
      "cell_type": "code",
      "metadata": {
        "id": "dumjRClP92TT",
        "colab_type": "code",
        "colab": {}
      },
      "source": [
        ""
      ],
      "execution_count": 0,
      "outputs": []
    }
  ]
}